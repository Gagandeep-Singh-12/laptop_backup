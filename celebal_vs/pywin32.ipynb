{
 "cells": [
  {
   "cell_type": "code",
   "execution_count": 1,
   "metadata": {},
   "outputs": [],
   "source": [
    "#https://jpereiran.github.io/articles/2019/06/14/Excel-automation-with-pywin32.html\n",
    "\n",
    "def load_workbook(path):\n",
    "    import win32com.client as win32\n",
    "\n",
    "    # Open up Excel and make it visible\n",
    "    excel = win32.Dispatch('Excel.Application')\n",
    "    excel.Visible = True\n",
    "    global workbook\n",
    "    workbook = excel.Workbooks.Open(path)\n",
    "\n",
    "def load_worksheet( sheet_name):\n",
    "    global worksheet\n",
    "    worksheet = workbook.Worksheets(sheet_name)\n",
    "\n",
    "def place_value(row, col, value):\n",
    "    worksheet.Range(col+row).Value = value\n",
    "\n",
    "def save():\n",
    "    workbook.Save()\n"
   ]
  },
  {
   "cell_type": "code",
   "execution_count": 2,
   "metadata": {},
   "outputs": [],
   "source": [
    "load_workbook('C:/Users/Celebal/celebal_vs/Book1.xlsx')\n",
    "load_worksheet('Sheet1')"
   ]
  },
  {
   "cell_type": "code",
   "execution_count": 3,
   "metadata": {},
   "outputs": [],
   "source": [
    "row = \"7\"\n",
    "col = \"A\"\n",
    "value = \"elevated\"\n",
    "place_value(row, col, value)"
   ]
  },
  {
   "cell_type": "code",
   "execution_count": 4,
   "metadata": {},
   "outputs": [],
   "source": [
    "save()"
   ]
  },
  {
   "cell_type": "code",
   "execution_count": null,
   "metadata": {},
   "outputs": [],
   "source": []
  }
 ],
 "metadata": {
  "interpreter": {
   "hash": "e7e204da38400761e335c0caaa46d0a86cbc1961cceae02a4b646b3af84e2c38"
  },
  "kernelspec": {
   "display_name": "Python 3.8.0 64-bit",
   "language": "python",
   "name": "python3"
  },
  "language_info": {
   "codemirror_mode": {
    "name": "ipython",
    "version": 3
   },
   "file_extension": ".py",
   "mimetype": "text/x-python",
   "name": "python",
   "nbconvert_exporter": "python",
   "pygments_lexer": "ipython3",
   "version": "3.8.0"
  },
  "orig_nbformat": 4
 },
 "nbformat": 4,
 "nbformat_minor": 2
}
