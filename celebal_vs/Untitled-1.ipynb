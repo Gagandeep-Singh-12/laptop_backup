{
 "cells": [
  {
   "cell_type": "code",
   "execution_count": 88,
   "metadata": {},
   "outputs": [],
   "source": [
    "import spacy\n",
    "from spacy.matcher import Matcher\n",
    "\n",
    "nlp = spacy.load(\"en_core_web_sm\")\n",
    "matcher = Matcher(nlp.vocab)\n",
    "# Add match ID \"HelloWorld\" with no callback and one pattern\n",
    "pattern1 = [{\"LOWER\": \"go\"},  {\"LOWER\": \"to\"}]\n",
    "matcher.add(\"GOTO\", [pattern1])\n",
    "pattern2 = [{\"LOWER\": \"column\"}]\n",
    "matcher.add(\"COLUMN\", [pattern2])\n",
    "pattern3 = [{\"LOWER\" : \"row\"}]\n",
    "matcher.add(\"ROW\", [pattern3])\n",
    "pattern4 = [{\"LOWER\" : \"enter\"}]\n",
    "matcher.add(\"ENTER\" , [pattern4])"
   ]
  },
  {
   "cell_type": "code",
   "execution_count": 3,
   "metadata": {},
   "outputs": [
    {
     "name": "stdout",
     "output_type": "stream",
     "text": [
      "<Worksheet \"Sheet1\">\n"
     ]
    }
   ],
   "source": [
    "from openpyxl import Workbook, load_workbook\n",
    "wb = load_workbook('new_Book1.xlsx')\n",
    "ws = wb.active\n",
    "print(ws)"
   ]
  },
  {
   "cell_type": "code",
   "execution_count": 4,
   "metadata": {},
   "outputs": [],
   "source": [
    "ws['A1'].value = 'Hello'"
   ]
  },
  {
   "cell_type": "code",
   "execution_count": 90,
   "metadata": {},
   "outputs": [],
   "source": [
    "def enter_sheet(row,column,inp):\n",
    "    ws[column+row].value = inp "
   ]
  },
  {
   "cell_type": "code",
   "execution_count": 91,
   "metadata": {},
   "outputs": [],
   "source": [
    "digit_mapping = {'one' : 1,\n",
    "\n",
    "'two' : 2,\n",
    "'three' : 3,\n",
    "'four' : 4,\n",
    "'five' : 5\n",
    "\n",
    "} "
   ]
  },
  {
   "cell_type": "code",
   "execution_count": 92,
   "metadata": {},
   "outputs": [],
   "source": [
    "import azure.cognitiveservices.speech as speechsdk\n",
    "import time\n",
    "\n",
    "'''\n",
    "\n",
    "def recognize_from_microphone():\n",
    "    speech_config = speechsdk.SpeechConfig(\n",
    "                                           subscription = \"5fd1c56ff99a400c8925c315c9ce56ec\",\n",
    "                                           region = \"eastus\"\n",
    "                                           )\n",
    "    speech_config.speech_recognition_language=\"en-US\"\n",
    "\n",
    "    audio_config = speechsdk.audio.AudioConfig(use_default_microphone=True)\n",
    "    speech_recognizer = speechsdk.SpeechRecognizer(speech_config=speech_config, audio_config=audio_config)\n",
    "\n",
    "    print(\"Speak into your microphone.\")\n",
    "    speech_recognition_result = speech_recognizer.recognize_once_async().get()\n",
    "\n",
    "    if speech_recognition_result.reason == speechsdk.ResultReason.RecognizedSpeech:\n",
    "        print(\"Recognized: {}\".format(speech_recognition_result.text))\n",
    "        return speech_recognition_result.text\n",
    "    elif speech_recognition_result.reason == speechsdk.ResultReason.NoMatch:\n",
    "        print(\"No speech could be recognized: {}\".format(speech_recognition_result.no_match_details))\n",
    "    elif speech_recognition_result.reason == speechsdk.ResultReason.Canceled:\n",
    "        cancellation_details = speech_recognition_result.cancellation_details\n",
    "        print(\"Speech Recognition canceled: {}\".format(cancellation_details.reason))\n",
    "        if cancellation_details.reason == speechsdk.CancellationReason.Error:\n",
    "            print(\"Error details: {}\".format(cancellation_details.error_details))\n",
    "            print(\"Did you set the speech resource key and region values?\")\n",
    "\n",
    "\n",
    "'''\n",
    "def recognize_from_microphone():\n",
    "    speech_config = speechsdk.SpeechConfig(\n",
    "                                           subscription = \"5fd1c56ff99a400c8925c315c9ce56ec\",\n",
    "                                           region = \"eastus\"\n",
    "                                           )\n",
    "    speech_config.speech_recognition_language=\"en-US\"\n",
    "    speech_config.enable_dictation()\n",
    "\n",
    "    audio_config = speechsdk.audio.AudioConfig(use_default_microphone=True)\n",
    "    speech_recognizer = speechsdk.SpeechRecognizer(speech_config=speech_config, audio_config=audio_config)\n",
    "\n",
    "    done = False\n",
    "\n",
    "    def stop_cb(evt):\n",
    "        \"\"\"callback that stops continuous recognition upon receiving an event `evt`\"\"\"\n",
    "        print('CLOSING on {}'.format(evt))\n",
    "        speech_recognizer.stop_continuous_recognition()\n",
    "        nonlocal done\n",
    "        done = True\n",
    "\n",
    "    # Connect callbacks to the events fired by the speech recognizer\n",
    "    speech_recognizer.recognizing.connect(lambda evt: print('RECOGNIZING: {}'.format(evt)))\n",
    "    speech_recognizer.recognized.connect(lambda evt: print('RECOGNIZED: {}'.format(evt)))\n",
    "    speech_recognizer.session_started.connect(lambda evt: print('SESSION STARTED: {}'.format(evt)))\n",
    "    speech_recognizer.session_stopped.connect(lambda evt: print('SESSION STOPPED {}'.format(evt)))\n",
    "    speech_recognizer.canceled.connect(lambda evt: print('CANCELED {}'.format(evt)))\n",
    "    # stop continuous recognition on either session stopped or canceled events\n",
    "    speech_recognizer.session_stopped.connect(stop_cb)\n",
    "    speech_recognizer.canceled.connect(stop_cb)\n",
    "\n",
    "    print(\"Speak into your microphone.\")\n",
    "    #speech_recognition_result = speech_recognizer.recognize_once_async().get()\n",
    "    # Start continuous speech recognition\n",
    "    speech_recognition_result = speech_recognizer.start_continuous_recognition()\n",
    "    while not done:\n",
    "        time.sleep(.5)\n",
    "\n",
    "\n",
    "    if speech_recognition_result.reason == speechsdk.ResultReason.RecognizedSpeech:\n",
    "        print(\"Recognized: {}\".format(speech_recognition_result.text))\n",
    "        return speech_recognition_result.text\n",
    "    elif speech_recognition_result.reason == speechsdk.ResultReason.NoMatch:\n",
    "        print(\"No speech could be recognized: {}\".format(speech_recognition_result.no_match_details))\n",
    "    elif speech_recognition_result.reason == speechsdk.ResultReason.Canceled:\n",
    "        cancellation_details = speech_recognition_result.cancellation_details\n",
    "        print(\"Speech Recognition canceled: {}\".format(cancellation_details.reason))\n",
    "        if cancellation_details.reason == speechsdk.CancellationReason.Error:\n",
    "            print(\"Error details: {}\".format(cancellation_details.error_details))\n",
    "            print(\"Did you set the speech resource key and region values?\")"
   ]
  },
  {
   "cell_type": "code",
   "execution_count": 93,
   "metadata": {},
   "outputs": [],
   "source": [
    "#input = recognize_from_microphone()"
   ]
  },
  {
   "cell_type": "code",
   "execution_count": 94,
   "metadata": {},
   "outputs": [],
   "source": [
    "def get_ls_matches(input):\n",
    "    global doc\n",
    "    doc = nlp(input)\n",
    "    ls_matches1 = []\n",
    "    matches = matcher(doc)\n",
    "    for match_id, start, end in matches:\n",
    "        string_id = nlp.vocab.strings[match_id]  # Get string representation\n",
    "        span = doc[start:end]  # The matched span\n",
    "        #print(match_id, string_id, start, end, span.text)\n",
    "        ls_matches1.append((string_id,start,end))\n",
    "    return ls_matches1"
   ]
  },
  {
   "cell_type": "code",
   "execution_count": 95,
   "metadata": {},
   "outputs": [],
   "source": [
    "def place_data(input):\n",
    "    column_text = {}\n",
    "    ls_matches = get_ls_matches(input)\n",
    "    for i,command in enumerate(ls_matches):\n",
    "        if command[0] == 'ROW':\n",
    "            j = command[2]\n",
    "            #r = input.split()[j].replace(',','')\n",
    "            r = doc[j].text\n",
    "            print('Row : ',r)\n",
    "        if command[0] == 'COLUMN':\n",
    "            j = command[2]\n",
    "            #c =  input.split()[j].replace(',','')\n",
    "            c = doc[j].text\n",
    "            print('column : ',c)\n",
    "\n",
    "            flag = False\n",
    "            if ls_matches[i+1][0] == 'ENTER':\n",
    "                j = ls_matches[i+1][2]\n",
    "                #print(j)\n",
    "                try:\n",
    "                    if ls_matches[i+2][0] == \"GOTO\":\n",
    "                        flag = True\n",
    "                        k = ls_matches[i+2][1]\n",
    "                except:\n",
    "                    pass\n",
    "                if flag:\n",
    "                    body = doc[j:k].text\n",
    "                else:\n",
    "                    body = doc[j:].text\n",
    "                column_text[c] = body\n",
    "                print('body : ', body)\n",
    "    \n",
    "    return {'row':r, 'column':column_text}"
   ]
  },
  {
   "cell_type": "code",
   "execution_count": 96,
   "metadata": {},
   "outputs": [
    {
     "name": "stdout",
     "output_type": "stream",
     "text": [
      "Row :  five\n",
      "column :  B\n",
      "body :  wiry\n"
     ]
    },
    {
     "data": {
      "text/plain": [
       "{'row': 'five', 'column': {'B': 'wiry'}}"
      ]
     },
     "execution_count": 96,
     "metadata": {},
     "output_type": "execute_result"
    }
   ],
   "source": [
    "inp = \"Go to row five, go to column B, enter wiry\"\n",
    "place_data(inp)"
   ]
  },
  {
   "cell_type": "code",
   "execution_count": 97,
   "metadata": {},
   "outputs": [
    {
     "name": "stdout",
     "output_type": "stream",
     "text": [
      "Row :  five\n",
      "column :  B\n",
      "body :  wiry\n"
     ]
    }
   ],
   "source": [
    "place_loc = place_data(inp)"
   ]
  },
  {
   "cell_type": "code",
   "execution_count": 98,
   "metadata": {},
   "outputs": [
    {
     "data": {
      "text/plain": [
       "{'B': 'wiry'}"
      ]
     },
     "execution_count": 98,
     "metadata": {},
     "output_type": "execute_result"
    }
   ],
   "source": [
    "place_loc['column']"
   ]
  },
  {
   "cell_type": "code",
   "execution_count": 99,
   "metadata": {},
   "outputs": [],
   "source": [
    "row = digit_mapping[place_loc['row']]\n",
    "row = str(row)\n",
    "for k,v in place_loc['column'].items():\n",
    "    enter_sheet(row, k, v)"
   ]
  },
  {
   "cell_type": "code",
   "execution_count": 100,
   "metadata": {},
   "outputs": [],
   "source": [
    "wb.save('new_Book1.xlsx')"
   ]
  },
  {
   "cell_type": "markdown",
   "metadata": {},
   "source": []
  },
  {
   "cell_type": "code",
   "execution_count": 3,
   "metadata": {},
   "outputs": [
    {
     "name": "stdout",
     "output_type": "stream",
     "text": [
      "{\"result\":[{\"company_name\":\"Adaptimmune\",\"company_website\":\"https://www.adaptimmune.com\",\"id\":14},{\"company_name\":\"ANGLE plc\",\"company_website\":\"https://angleplc.com/\",\"id\":35},{\"company_name\":\"GSK\",\"company_website\":\"https://www.gsk.com\",\"id\":161},{\"company_name\":\"Emergent BioSolutions Inc.\",\"company_website\":\"https://www.emergentbiosolutions.com\",\"id\":672},{\"company_name\":\"Simulations Plus, Inc.\",\"company_website\":\"https://www.simulations-plus.com\",\"id\":708},{\"company_name\":\"Boehringer Ingelheim Pharmaceuticals, Inc.\",\"company_website\":\"https://www.boehringer-ingelheim.com\",\"id\":85},{\"company_name\":\"ABS Inc.\",\"company_website\":\"https://www.absbio.com\",\"id\":7},{\"company_name\":\"ACROBiosystems\",\"company_website\":\"https://www.acrobiosystems.com\",\"id\":11},{\"company_name\":\"3DHISTECH\",\"company_website\":\"https://www.3dhistech.com\",\"id\":2},{\"company_name\":\"AACR Publications\",\"company_website\":\"https://www.aacr.org\",\"id\":3},{\"company_name\":\"AACRcentral\",\"company_website\":\"https://www.aacr.org\",\"id\":4},{\"company_name\":\"AbboMax, Inc.\",\"company_website\":\"https://www.abbomax.com\",\"id\":5},{\"company_name\":\"ACT Genomics Co., Ltd.\",\"company_website\":\"https://www.actgenomics.com\",\"id\":13},{\"company_name\":\"Berkeley Lights, Inc.\",\"company_website\":\"https://www.berkeleylights.com\",\"id\":58},{\"company_name\":\"Bio\\u2010techne\",\"company_website\":\"https://www.bio-techne.com\",\"id\":81},{\"company_name\":\"Caliber I.D.\",\"company_website\":\"https://www.caliberid.com\",\"id\":91}]}\n",
      "\n",
      "200\n"
     ]
    }
   ],
   "source": [
    "import requests\n",
    "\n",
    "resp = requests.post(' https://geography-sizing.azurewebsites.net/landing_page')\n",
    "print(resp.text)\n",
    "print(resp.status_code)"
   ]
  },
  {
   "cell_type": "code",
   "execution_count": 2,
   "metadata": {},
   "outputs": [
    {
     "data": {
      "text/plain": [
       "'{\"Error\":\"Sales data not available\"}\\n'"
      ]
     },
     "execution_count": 2,
     "metadata": {},
     "output_type": "execute_result"
    }
   ],
   "source": [
    "import requests\n",
    "resp = requests.post(' https://geography-sizing.azurewebsites.net/geography_sizing',\n",
    "json ={\n",
    "\t\"id\" : 14,\n",
    "\t\"company_name\" : \"Adaptimmune\",\n",
    "\t\"company_website\" : \"https://www.adaptimmune.com\",\n",
    "\n",
    "})\n",
    "resp.text"
   ]
  },
  {
   "cell_type": "code",
   "execution_count": 2,
   "metadata": {},
   "outputs": [],
   "source": [
    "import speech_recognition as sr"
   ]
  },
  {
   "cell_type": "code",
   "execution_count": 3,
   "metadata": {},
   "outputs": [
    {
     "ename": "AttributeError",
     "evalue": "Could not find PyAudio; check installation",
     "output_type": "error",
     "traceback": [
      "\u001b[1;31m---------------------------------------------------------------------------\u001b[0m",
      "\u001b[1;31mModuleNotFoundError\u001b[0m                       Traceback (most recent call last)",
      "File \u001b[1;32mc:\\Users\\Celebal\\AppData\\Local\\Programs\\Python\\Python38\\lib\\site-packages\\speech_recognition\\__init__.py:108\u001b[0m, in \u001b[0;36mMicrophone.get_pyaudio\u001b[1;34m()\u001b[0m\n\u001b[0;32m    <a href='file:///c%3A/Users/Celebal/AppData/Local/Programs/Python/Python38/lib/site-packages/speech_recognition/__init__.py?line=106'>107</a>\u001b[0m \u001b[39mtry\u001b[39;00m:\n\u001b[1;32m--> <a href='file:///c%3A/Users/Celebal/AppData/Local/Programs/Python/Python38/lib/site-packages/speech_recognition/__init__.py?line=107'>108</a>\u001b[0m     \u001b[39mimport\u001b[39;00m \u001b[39mpyaudio\u001b[39;00m\n\u001b[0;32m    <a href='file:///c%3A/Users/Celebal/AppData/Local/Programs/Python/Python38/lib/site-packages/speech_recognition/__init__.py?line=108'>109</a>\u001b[0m \u001b[39mexcept\u001b[39;00m \u001b[39mImportError\u001b[39;00m:\n",
      "\u001b[1;31mModuleNotFoundError\u001b[0m: No module named 'pyaudio'",
      "\nDuring handling of the above exception, another exception occurred:\n",
      "\u001b[1;31mAttributeError\u001b[0m                            Traceback (most recent call last)",
      "\u001b[1;32mc:\\Users\\Celebal\\celebal_vs\\Untitled-1.ipynb Cell 19'\u001b[0m in \u001b[0;36m<cell line: 1>\u001b[1;34m()\u001b[0m\n\u001b[1;32m----> <a href='vscode-notebook-cell:/c%3A/Users/Celebal/celebal_vs/Untitled-1.ipynb#ch0000018?line=0'>1</a>\u001b[0m sr\u001b[39m.\u001b[39;49mMicrophone\u001b[39m.\u001b[39;49mlist_microphone_names()\n",
      "File \u001b[1;32mc:\\Users\\Celebal\\AppData\\Local\\Programs\\Python\\Python38\\lib\\site-packages\\speech_recognition\\__init__.py:123\u001b[0m, in \u001b[0;36mMicrophone.list_microphone_names\u001b[1;34m()\u001b[0m\n\u001b[0;32m    <a href='file:///c%3A/Users/Celebal/AppData/Local/Programs/Python/Python38/lib/site-packages/speech_recognition/__init__.py?line=115'>116</a>\u001b[0m \u001b[39m@staticmethod\u001b[39m\n\u001b[0;32m    <a href='file:///c%3A/Users/Celebal/AppData/Local/Programs/Python/Python38/lib/site-packages/speech_recognition/__init__.py?line=116'>117</a>\u001b[0m \u001b[39mdef\u001b[39;00m \u001b[39mlist_microphone_names\u001b[39m():\n\u001b[0;32m    <a href='file:///c%3A/Users/Celebal/AppData/Local/Programs/Python/Python38/lib/site-packages/speech_recognition/__init__.py?line=117'>118</a>\u001b[0m     \u001b[39m\"\"\"\u001b[39;00m\n\u001b[0;32m    <a href='file:///c%3A/Users/Celebal/AppData/Local/Programs/Python/Python38/lib/site-packages/speech_recognition/__init__.py?line=118'>119</a>\u001b[0m \u001b[39m    Returns a list of the names of all available microphones. For microphones where the name can't be retrieved, the list entry contains ``None`` instead.\u001b[39;00m\n\u001b[0;32m    <a href='file:///c%3A/Users/Celebal/AppData/Local/Programs/Python/Python38/lib/site-packages/speech_recognition/__init__.py?line=119'>120</a>\u001b[0m \n\u001b[0;32m    <a href='file:///c%3A/Users/Celebal/AppData/Local/Programs/Python/Python38/lib/site-packages/speech_recognition/__init__.py?line=120'>121</a>\u001b[0m \u001b[39m    The index of each microphone's name is the same as its device index when creating a ``Microphone`` instance - indices in this list can be used as values of ``device_index``.\u001b[39;00m\n\u001b[0;32m    <a href='file:///c%3A/Users/Celebal/AppData/Local/Programs/Python/Python38/lib/site-packages/speech_recognition/__init__.py?line=121'>122</a>\u001b[0m \u001b[39m    \"\"\"\u001b[39;00m\n\u001b[1;32m--> <a href='file:///c%3A/Users/Celebal/AppData/Local/Programs/Python/Python38/lib/site-packages/speech_recognition/__init__.py?line=122'>123</a>\u001b[0m     audio \u001b[39m=\u001b[39m Microphone\u001b[39m.\u001b[39;49mget_pyaudio()\u001b[39m.\u001b[39mPyAudio()\n\u001b[0;32m    <a href='file:///c%3A/Users/Celebal/AppData/Local/Programs/Python/Python38/lib/site-packages/speech_recognition/__init__.py?line=123'>124</a>\u001b[0m     \u001b[39mtry\u001b[39;00m:\n\u001b[0;32m    <a href='file:///c%3A/Users/Celebal/AppData/Local/Programs/Python/Python38/lib/site-packages/speech_recognition/__init__.py?line=124'>125</a>\u001b[0m         result \u001b[39m=\u001b[39m []\n",
      "File \u001b[1;32mc:\\Users\\Celebal\\AppData\\Local\\Programs\\Python\\Python38\\lib\\site-packages\\speech_recognition\\__init__.py:110\u001b[0m, in \u001b[0;36mMicrophone.get_pyaudio\u001b[1;34m()\u001b[0m\n\u001b[0;32m    <a href='file:///c%3A/Users/Celebal/AppData/Local/Programs/Python/Python38/lib/site-packages/speech_recognition/__init__.py?line=107'>108</a>\u001b[0m     \u001b[39mimport\u001b[39;00m \u001b[39mpyaudio\u001b[39;00m\n\u001b[0;32m    <a href='file:///c%3A/Users/Celebal/AppData/Local/Programs/Python/Python38/lib/site-packages/speech_recognition/__init__.py?line=108'>109</a>\u001b[0m \u001b[39mexcept\u001b[39;00m \u001b[39mImportError\u001b[39;00m:\n\u001b[1;32m--> <a href='file:///c%3A/Users/Celebal/AppData/Local/Programs/Python/Python38/lib/site-packages/speech_recognition/__init__.py?line=109'>110</a>\u001b[0m     \u001b[39mraise\u001b[39;00m \u001b[39mAttributeError\u001b[39;00m(\u001b[39m\"\u001b[39m\u001b[39mCould not find PyAudio; check installation\u001b[39m\u001b[39m\"\u001b[39m)\n\u001b[0;32m    <a href='file:///c%3A/Users/Celebal/AppData/Local/Programs/Python/Python38/lib/site-packages/speech_recognition/__init__.py?line=110'>111</a>\u001b[0m \u001b[39mfrom\u001b[39;00m \u001b[39mdistutils\u001b[39;00m\u001b[39m.\u001b[39;00m\u001b[39mversion\u001b[39;00m \u001b[39mimport\u001b[39;00m LooseVersion\n\u001b[0;32m    <a href='file:///c%3A/Users/Celebal/AppData/Local/Programs/Python/Python38/lib/site-packages/speech_recognition/__init__.py?line=111'>112</a>\u001b[0m \u001b[39mif\u001b[39;00m LooseVersion(pyaudio\u001b[39m.\u001b[39m__version__) \u001b[39m<\u001b[39m LooseVersion(\u001b[39m\"\u001b[39m\u001b[39m0.2.11\u001b[39m\u001b[39m\"\u001b[39m):\n",
      "\u001b[1;31mAttributeError\u001b[0m: Could not find PyAudio; check installation"
     ]
    }
   ],
   "source": [
    "sr.Microphone.list_microphone_names()"
   ]
  },
  {
   "cell_type": "code",
   "execution_count": null,
   "metadata": {},
   "outputs": [],
   "source": []
  }
 ],
 "metadata": {
  "interpreter": {
   "hash": "e7e204da38400761e335c0caaa46d0a86cbc1961cceae02a4b646b3af84e2c38"
  },
  "kernelspec": {
   "display_name": "Python 3.8.0 64-bit",
   "language": "python",
   "name": "python3"
  },
  "language_info": {
   "codemirror_mode": {
    "name": "ipython",
    "version": 3
   },
   "file_extension": ".py",
   "mimetype": "text/x-python",
   "name": "python",
   "nbconvert_exporter": "python",
   "pygments_lexer": "ipython3",
   "version": "3.8.0"
  },
  "orig_nbformat": 4
 },
 "nbformat": 4,
 "nbformat_minor": 2
}
