{
 "cells": [
  {
   "cell_type": "code",
   "execution_count": 11,
   "metadata": {},
   "outputs": [],
   "source": [
    "from openpyxl import Workbook, load_workbook\n",
    "wb = load_workbook('Book1.xlsx')\n",
    "ws = wb.active\n",
    "print(ws)"
   ]
  },
  {
   "cell_type": "code",
   "execution_count": 16,
   "metadata": {},
   "outputs": [],
   "source": [
    "ws['A1'].value = 'wiry,brown'\n",
    "ws['B1'].value = '++'"
   ]
  },
  {
   "cell_type": "code",
   "execution_count": null,
   "metadata": {},
   "outputs": [],
   "source": [
    "def enter_sheet(row,column,inp):\n",
    "    ws[column+row] = inp "
   ]
  },
  {
   "cell_type": "code",
   "execution_count": 17,
   "metadata": {},
   "outputs": [],
   "source": [
    "wb.save('new_Book1.xlsx')"
   ]
  },
  {
   "cell_type": "code",
   "execution_count": 25,
   "metadata": {},
   "outputs": [],
   "source": [
    "digit_mapping = {'one' : 1,\n",
    "\n",
    "'two' : 2,\n",
    "'three' : 3,\n",
    "'four' : 4,\n",
    "'five' : 5\n",
    "\n",
    "} "
   ]
  },
  {
   "cell_type": "code",
   "execution_count": 17,
   "metadata": {},
   "outputs": [],
   "source": [
    "import azure.cognitiveservices.speech as speechsdk\n",
    "\n",
    "def recognize_from_microphone():\n",
    "    speech_config = speechsdk.SpeechConfig(\n",
    "                                           subscription = \"5fd1c56ff99a400c8925c315c9ce56ec\",\n",
    "                                           region = \"eastus\"\n",
    "                                           )\n",
    "    speech_config.speech_recognition_language=\"en-US\"\n",
    "\n",
    "    audio_config = speechsdk.audio.AudioConfig(use_default_microphone=True)\n",
    "    speech_recognizer = speechsdk.SpeechRecognizer(speech_config=speech_config, audio_config=audio_config)\n",
    "\n",
    "    print(\"Speak into your microphone.\")\n",
    "    speech_recognition_result = speech_recognizer.recognize_once_async().get()\n",
    "\n",
    "    if speech_recognition_result.reason == speechsdk.ResultReason.RecognizedSpeech:\n",
    "        print(\"Recognized: {}\".format(speech_recognition_result.text))\n",
    "        return speech_recognition_result.text\n",
    "    elif speech_recognition_result.reason == speechsdk.ResultReason.NoMatch:\n",
    "        print(\"No speech could be recognized: {}\".format(speech_recognition_result.no_match_details))\n",
    "    elif speech_recognition_result.reason == speechsdk.ResultReason.Canceled:\n",
    "        cancellation_details = speech_recognition_result.cancellation_details\n",
    "        print(\"Speech Recognition canceled: {}\".format(cancellation_details.reason))\n",
    "        if cancellation_details.reason == speechsdk.CancellationReason.Error:\n",
    "            print(\"Error details: {}\".format(cancellation_details.error_details))\n",
    "            print(\"Did you set the speech resource key and region values?\")"
   ]
  },
  {
   "cell_type": "code",
   "execution_count": 68,
   "metadata": {},
   "outputs": [
    {
     "name": "stdout",
     "output_type": "stream",
     "text": [
      "Speak into your microphone.\n",
      "Recognized: Enter row seven, column B enter abiram com.\n"
     ]
    }
   ],
   "source": [
    "input = recognize_from_microphone()"
   ]
  },
  {
   "cell_type": "code",
   "execution_count": 75,
   "metadata": {},
   "outputs": [
    {
     "data": {
      "text/plain": [
       "' Go to row five, go to column A, enter a, go to column B, enter B.'"
      ]
     },
     "execution_count": 75,
     "metadata": {},
     "output_type": "execute_result"
    }
   ],
   "source": [
    "\" Go to row five, go to column A, enter a, go to column B, enter B. Enter row seven, column B enter abiram com.\""
   ]
  },
  {
   "cell_type": "code",
   "execution_count": 62,
   "metadata": {},
   "outputs": [
    {
     "data": {
      "text/plain": [
       "'Children go to row seven, column B enter a.'"
      ]
     },
     "execution_count": 62,
     "metadata": {},
     "output_type": "execute_result"
    }
   ],
   "source": [
    "input"
   ]
  },
  {
   "cell_type": "code",
   "execution_count": 69,
   "metadata": {},
   "outputs": [],
   "source": [
    "import spacy\n",
    "from spacy.matcher import Matcher\n",
    "\n",
    "nlp = spacy.load(\"en_core_web_sm\")\n",
    "matcher = Matcher(nlp.vocab)\n",
    "# Add match ID \"HelloWorld\" with no callback and one pattern\n",
    "pattern1 = [{\"LOWER\": \"go\"},  {\"LOWER\": \"to\"}]\n",
    "matcher.add(\"GOTO\", [pattern1])\n",
    "pattern2 = [{\"LOWER\": \"column\"}]\n",
    "matcher.add(\"COLUMN\", [pattern2])\n",
    "pattern3 = [{\"LOWER\" : \"row\"}]\n",
    "matcher.add(\"ROW\", [pattern3])\n",
    "pattern4 = [{\"LOWER\" : \"enter\"}]\n",
    "matcher.add(\"ENTER\" , [pattern4])"
   ]
  },
  {
   "cell_type": "code",
   "execution_count": 76,
   "metadata": {},
   "outputs": [
    {
     "name": "stdout",
     "output_type": "stream",
     "text": [
      "11065722330229521316 GOTO 0 2 Go to\n",
      "11399087363527022751 ROW 2 3 row\n",
      "11065722330229521316 GOTO 5 7 go to\n",
      "7765235216362745943 COLUMN 7 8 column\n",
      "3719284819488409755 ENTER 10 11 enter\n"
     ]
    }
   ],
   "source": [
    "input_ = \"Go to row five, go to column B, enter wiry\"\n",
    "doc = nlp(input_)\n",
    "ls_matches = []\n",
    "matches = matcher(doc)\n",
    "for match_id, start, end in matches:\n",
    "    string_id = nlp.vocab.strings[match_id]  # Get string representation\n",
    "    span = doc[start:end]  # The matched span\n",
    "    print(match_id, string_id, start, end, span.text)\n",
    "    ls_matches.append((string_id,start,end))"
   ]
  },
  {
   "cell_type": "code",
   "execution_count": 77,
   "metadata": {},
   "outputs": [
    {
     "data": {
      "text/plain": [
       "[('GOTO', 0, 2),\n",
       " ('ROW', 2, 3),\n",
       " ('GOTO', 5, 7),\n",
       " ('COLUMN', 7, 8),\n",
       " ('ENTER', 10, 11)]"
      ]
     },
     "execution_count": 77,
     "metadata": {},
     "output_type": "execute_result"
    }
   ],
   "source": [
    "ls_matches"
   ]
  },
  {
   "cell_type": "code",
   "execution_count": 79,
   "metadata": {},
   "outputs": [],
   "source": [
    "def place_data():\n",
    "    column_text = {}\n",
    "    for i,command in enumerate(ls_matches):\n",
    "        if command[0] == 'ROW':\n",
    "            j = command[2]\n",
    "            #r = input.split()[j].replace(',','')\n",
    "            r = doc[j]\n",
    "            print('Row : ',r)\n",
    "        if command[0] == 'COLUMN':\n",
    "            j = command[2]\n",
    "            #c =  input.split()[j].replace(',','')\n",
    "            c = doc[j]\n",
    "            print('column : ',c)\n",
    "\n",
    "            flag = False\n",
    "            if ls_matches[i+1][0] == 'ENTER':\n",
    "                j = ls_matches[i+1][2]\n",
    "                #print(j)\n",
    "                try:\n",
    "                    if ls_matches[i+2][0] == \"GOTO\":\n",
    "                        flag = True\n",
    "                        k = ls_matches[i+2][1]\n",
    "                except:\n",
    "                    pass\n",
    "                if flag:\n",
    "                    body = doc[j:k].text\n",
    "                else:\n",
    "                    body = doc[j:].text\n",
    "                column_text[c] = body\n",
    "                print('body : ', body)\n",
    "    \n",
    "    return {'row':r, 'column':column_text}"
   ]
  },
  {
   "cell_type": "code",
   "execution_count": 1,
   "metadata": {},
   "outputs": [
    {
     "ename": "NameError",
     "evalue": "name 'place_data' is not defined",
     "output_type": "error",
     "traceback": [
      "\u001b[1;31m---------------------------------------------------------------------------\u001b[0m",
      "\u001b[1;31mNameError\u001b[0m                                 Traceback (most recent call last)",
      "\u001b[1;32mc:\\Users\\Celebal\\celebal_vs\\automate.ipynb Cell 14'\u001b[0m in \u001b[0;36m<cell line: 1>\u001b[1;34m()\u001b[0m\n\u001b[1;32m----> <a href='vscode-notebook-cell:/c%3A/Users/Celebal/celebal_vs/automate.ipynb#ch0000018?line=0'>1</a>\u001b[0m place_data()\n",
      "\u001b[1;31mNameError\u001b[0m: name 'place_data' is not defined"
     ]
    }
   ],
   "source": [
    "place_data()"
   ]
  },
  {
   "cell_type": "code",
   "execution_count": 20,
   "metadata": {},
   "outputs": [
    {
     "name": "stdout",
     "output_type": "stream",
     "text": [
      "['A', 'B', 'C', 'D', 'E', 'F', 'G', 'H', 'I', 'J', 'K', 'L', 'M', 'N', 'O', 'P', 'Q', 'R', 'S', 'T', 'U', 'V', 'W', 'X', 'Y', 'Z']\n"
     ]
    }
   ],
   "source": [
    "alphabets_in_capital=[]\n",
    "for i in range(65,91):\n",
    "    alphabets_in_capital.append(chr(i))\n",
    "print(alphabets_in_capital)"
   ]
  },
  {
   "cell_type": "code",
   "execution_count": 21,
   "metadata": {},
   "outputs": [
    {
     "data": {
      "text/plain": [
       "['A', 'B', 'C', 'D', 'E', 'F', 'G', 'H']"
      ]
     },
     "execution_count": 21,
     "metadata": {},
     "output_type": "execute_result"
    }
   ],
   "source": [
    "alphabets = alphabets_in_capital[:8]\n",
    "alphabets"
   ]
  },
  {
   "cell_type": "code",
   "execution_count": 22,
   "metadata": {},
   "outputs": [],
   "source": [
    "import random\n",
    "ls = []\n",
    "for i in range(1,21):\n",
    "    ls.append(\"Goto row {}\".format(i))\n",
    "    u = random.randint(1,8)\n",
    "    #print(u)\n",
    "    zz = alphabets[:u]\n",
    "    for ch in zz:\n",
    "        #print(\"Goto Column {}\".format(ch))\n",
    "        ls.append(\"Goto Column {} Enter {}\".format(ch,ch))\n",
    "        "
   ]
  },
  {
   "cell_type": "code",
   "execution_count": null,
   "metadata": {},
   "outputs": [],
   "source": [
    "import requests\n",
    "\n",
    "aa = requests.post(\"\")"
   ]
  },
  {
   "cell_type": "code",
   "execution_count": null,
   "metadata": {},
   "outputs": [],
   "source": []
  }
 ],
 "metadata": {
  "interpreter": {
   "hash": "e7e204da38400761e335c0caaa46d0a86cbc1961cceae02a4b646b3af84e2c38"
  },
  "kernelspec": {
   "display_name": "Python 3.8.0 64-bit",
   "language": "python",
   "name": "python3"
  },
  "language_info": {
   "codemirror_mode": {
    "name": "ipython",
    "version": 3
   },
   "file_extension": ".py",
   "mimetype": "text/x-python",
   "name": "python",
   "nbconvert_exporter": "python",
   "pygments_lexer": "ipython3",
   "version": "3.8.0"
  },
  "orig_nbformat": 4
 },
 "nbformat": 4,
 "nbformat_minor": 2
}
